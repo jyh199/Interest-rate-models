{
 "cells": [
  {
   "cell_type": "code",
   "execution_count": 2,
   "id": "a67c9fa0",
   "metadata": {},
   "outputs": [],
   "source": [
    "import math\n",
    "import numpy as np\n",
    "import pandas as pd"
   ]
  },
  {
   "cell_type": "code",
   "execution_count": 3,
   "id": "718766e7",
   "metadata": {},
   "outputs": [],
   "source": [
    "# Vasicek model\n",
    "def VasicekPath(dt,T,r0,sigma,k,mean_r):\n",
    "    r = []\n",
    "    r.append(r0)\n",
    "    n = int(round(T/dt))\n",
    "    for i in range(0,n):\n",
    "        ri = r[i] + k*(mean_r-r[i])*dt + sigma*np.sqrt(dt)*np.random.normal(0,1,1)[0]\n",
    "        r.append(ri)\n",
    "    R = sum(dt*(pd.Series(r))[:n]) # discount rate \n",
    "    return R,r"
   ]
  },
  {
   "cell_type": "code",
   "execution_count": 4,
   "id": "13cc7718",
   "metadata": {},
   "outputs": [],
   "source": [
    "# CIR\n",
    "def CIRPath(dt,S,r0,sigma,k,mean_r):\n",
    "    r = []\n",
    "    r.append(r0)\n",
    "    n = int(round(S/dt))\n",
    "    for i in range(0,n):\n",
    "        ri = r[i] + k*(mean_r-r[i])*dt + sigma*np.sqrt(dt*r[i])*np.random.normal(0,1,1)[0]\n",
    "        r.append(ri)\n",
    "    R = sum(dt*(pd.Series(r))[:n]) # discount rate \n",
    "    return R,r"
   ]
  },
  {
   "cell_type": "code",
   "execution_count": 5,
   "id": "f100f909",
   "metadata": {},
   "outputs": [],
   "source": [
    "# G2++\n",
    "def G2Path(delta_t,x0,y0,phi,sigma,yita,rho,a,b,period):\n",
    "    x = []\n",
    "    y = []\n",
    "    x.append(x0)\n",
    "    y.append(y0)\n",
    "    n = int(round(period/delta_t))\n",
    "    for i in range(0,n):\n",
    "        z = np.random.normal(0,1,2)\n",
    "        w1 = z[0]\n",
    "        w2 = rho*z[0] + np.sqrt(1-rho**2)*z[1]\n",
    "        xi = x[i] - a*x[i]*delta_t + sigma*np.sqrt(delta_t)*w1\n",
    "        yi = y[i] - b*y[i]*delta_t + yita*np.sqrt(delta_t)*w2\n",
    "        x.append(xi)\n",
    "        y.append(yi)\n",
    "    r = pd.Series(x) + pd.Series(y) + phi\n",
    "    R = sum(delta_t*r[:n]) # discount rate  \n",
    "    return R,x,y"
   ]
  }
 ],
 "metadata": {
  "kernelspec": {
   "display_name": "Python 3",
   "language": "python",
   "name": "python3"
  },
  "language_info": {
   "codemirror_mode": {
    "name": "ipython",
    "version": 3
   },
   "file_extension": ".py",
   "mimetype": "text/x-python",
   "name": "python",
   "nbconvert_exporter": "python",
   "pygments_lexer": "ipython3",
   "version": "3.8.8"
  }
 },
 "nbformat": 4,
 "nbformat_minor": 5
}
